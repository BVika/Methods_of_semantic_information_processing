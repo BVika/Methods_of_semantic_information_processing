{
  "nbformat": 4,
  "nbformat_minor": 0,
  "metadata": {
    "colab": {
      "provenance": [],
      "authorship_tag": "ABX9TyN4hH0NMGA0uFTJLCKqFyBt",
      "include_colab_link": true
    },
    "kernelspec": {
      "name": "python3",
      "display_name": "Python 3"
    },
    "language_info": {
      "name": "python"
    }
  },
  "cells": [
    {
      "cell_type": "markdown",
      "metadata": {
        "id": "view-in-github",
        "colab_type": "text"
      },
      "source": [
        "<a href=\"https://colab.research.google.com/github/BVika/Methods_of_semantic_information_processing/blob/main/%D0%9B%D0%B0%D0%B1_3.ipynb\" target=\"_parent\"><img src=\"https://colab.research.google.com/assets/colab-badge.svg\" alt=\"Open In Colab\"/></a>"
      ]
    },
    {
      "cell_type": "markdown",
      "source": [
        "# Лабораторная 3\n",
        "\n"
      ],
      "metadata": {
        "id": "QPwqSM-mOCK2"
      }
    },
    {
      "cell_type": "markdown",
      "source": [
        "## Простейший случай с 1 нейроном"
      ],
      "metadata": {
        "id": "5M5C_OfPOZh9"
      }
    },
    {
      "cell_type": "markdown",
      "source": [
        "### Создать нейронную сеть с нуля, т.е. не используя готовые библиотеки. Пример работы на любом табличном датасете.\n"
      ],
      "metadata": {
        "id": "vcH2mtx3OmJd"
      }
    },
    {
      "cell_type": "markdown",
      "source": [
        "Импортируем библиотреки"
      ],
      "metadata": {
        "id": "KFAmo4khOEbN"
      }
    },
    {
      "cell_type": "code",
      "execution_count": 46,
      "metadata": {
        "id": "ZnRo0dl4fyxn"
      },
      "outputs": [],
      "source": [
        "import numpy as np\n",
        "import pandas as pd"
      ]
    },
    {
      "cell_type": "code",
      "source": [
        "data = {\n",
        "    'age': [22, 25, 30, 35, 40, 45, 50, 55, 60],\n",
        "    'income_above_50000': [0, 0, 0, 1, 1, 1, 1, 1, 1]\n",
        "}\n",
        "df = pd.DataFrame(data)"
      ],
      "metadata": {
        "id": "B-pRsCK2Ntw8"
      },
      "execution_count": 47,
      "outputs": []
    },
    {
      "cell_type": "markdown",
      "source": [
        "Создаем датасет\n",
        "\n",
        "1.   Возраст человека\n",
        "2.   Зарплата человека: 0 - менее 50,000, 1 - более 50,000\n",
        "\n",
        "Предсказываем с какой вероятностью у человека будет зарплата больее 50000 относительно возраста"
      ],
      "metadata": {
        "id": "MQRmfxHWO-qN"
      }
    },
    {
      "cell_type": "markdown",
      "source": [
        "Линейная регрессия"
      ],
      "metadata": {
        "id": "bk9QNf4EOV1-"
      }
    },
    {
      "cell_type": "code",
      "source": [
        "\n",
        "def linear_regression(df: pd.DataFrame) -> list[float]:\n",
        "    x = df['age'].values\n",
        "    y = df['income_above_50000'].values\n",
        "\n",
        "    X = np.c_[np.ones(x.shape[0]), x]  # добавляем столбец единиц для bias\n",
        "    weights = np.linalg.inv(X.T @ X) @ (X.T @ y)  # вычисляем веса: (X^T * X)^(-1) * X^T * y\n",
        "\n",
        "    predictions = X @ weights\n",
        "    return predictions.tolist()\n",
        "\n",
        "print(linear_regression(df))"
      ],
      "metadata": {
        "colab": {
          "base_uri": "https://localhost:8080/"
        },
        "id": "iC4GNR9INig2",
        "outputId": "bc083040-114f-433e-90d6-57152d6d3f2b"
      },
      "execution_count": 48,
      "outputs": [
        {
          "output_type": "stream",
          "name": "stdout",
          "text": [
            "[0.10771152044957832, 0.19973462379019657, 0.3531064626912269, 0.5064783015922574, 0.6598501404932877, 0.8132219793943183, 0.9665938182953486, 1.119965657196379, 1.2733374960974093]\n"
          ]
        }
      ]
    },
    {
      "cell_type": "markdown",
      "source": [
        "Функция активации - сигмоида: 1 / (1 + exp(-x))"
      ],
      "metadata": {
        "id": "f1leSUbjObEN"
      }
    },
    {
      "cell_type": "code",
      "source": [
        "def activation_func(x: list[float]) -> list[float]:\n",
        "\n",
        "    return (1 / (1 + np.exp(-np.array(x)))).tolist()"
      ],
      "metadata": {
        "id": "JrlTm4_JNmHU"
      },
      "execution_count": 49,
      "outputs": []
    },
    {
      "cell_type": "markdown",
      "source": [
        "Создание нейрона"
      ],
      "metadata": {
        "id": "CAi3RlMkgJqJ"
      }
    },
    {
      "cell_type": "code",
      "source": [
        "def neuron(df: pd.DataFrame):\n",
        "    temp_result = linear_regression(df)\n",
        "    result = activation_func(temp_result)\n",
        "    return result"
      ],
      "metadata": {
        "id": "V3gOsIbMNpeF"
      },
      "execution_count": 50,
      "outputs": []
    },
    {
      "cell_type": "markdown",
      "source": [
        "Запускаем нейрон и выводим результат"
      ],
      "metadata": {
        "id": "04j0Q5QPPD_V"
      }
    },
    {
      "cell_type": "code",
      "source": [
        "output = neuron(df)"
      ],
      "metadata": {
        "id": "SEuBUk4HNxSs"
      },
      "execution_count": 51,
      "outputs": []
    },
    {
      "cell_type": "code",
      "source": [
        "for age, probability in zip(df['age'], output):\n",
        "    print(f\"Возраст: {age}, Вероятность заработка более 50,000: {probability:.2f}\")"
      ],
      "metadata": {
        "colab": {
          "base_uri": "https://localhost:8080/"
        },
        "id": "ML9CpAhiN1DV",
        "outputId": "7a440288-e7e8-4dc4-c57a-46dd83c79fb4"
      },
      "execution_count": 52,
      "outputs": [
        {
          "output_type": "stream",
          "name": "stdout",
          "text": [
            "Возраст: 22, Вероятность заработка более 50,000: 0.53\n",
            "Возраст: 25, Вероятность заработка более 50,000: 0.55\n",
            "Возраст: 30, Вероятность заработка более 50,000: 0.59\n",
            "Возраст: 35, Вероятность заработка более 50,000: 0.62\n",
            "Возраст: 40, Вероятность заработка более 50,000: 0.66\n",
            "Возраст: 45, Вероятность заработка более 50,000: 0.69\n",
            "Возраст: 50, Вероятность заработка более 50,000: 0.72\n",
            "Возраст: 55, Вероятность заработка более 50,000: 0.75\n",
            "Возраст: 60, Вероятность заработка более 50,000: 0.78\n"
          ]
        }
      ]
    }
  ]
}