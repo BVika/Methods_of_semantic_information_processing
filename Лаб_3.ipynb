{
  "nbformat": 4,
  "nbformat_minor": 0,
  "metadata": {
    "colab": {
      "provenance": [],
      "authorship_tag": "ABX9TyONk6sE9/U0n3vj0ejqOyLd",
      "include_colab_link": true
    },
    "kernelspec": {
      "name": "python3",
      "display_name": "Python 3"
    },
    "language_info": {
      "name": "python"
    }
  },
  "cells": [
    {
      "cell_type": "markdown",
      "metadata": {
        "id": "view-in-github",
        "colab_type": "text"
      },
      "source": [
        "<a href=\"https://colab.research.google.com/github/BVika/Methods_of_semantic_information_processing/blob/main/%D0%9B%D0%B0%D0%B1_3.ipynb\" target=\"_parent\"><img src=\"https://colab.research.google.com/assets/colab-badge.svg\" alt=\"Open In Colab\"/></a>"
      ]
    },
    {
      "cell_type": "markdown",
      "source": [
        "# Лабораторная 3\n",
        "\n"
      ],
      "metadata": {
        "id": "QPwqSM-mOCK2"
      }
    },
    {
      "cell_type": "markdown",
      "source": [
        "##1 задание. Простейший случай с 1 нейроном"
      ],
      "metadata": {
        "id": "5M5C_OfPOZh9"
      }
    },
    {
      "cell_type": "markdown",
      "source": [
        "### Создать нейронную сеть с нуля, т.е. не используя готовые библиотеки. Пример работы на любом табличном датасете.\n"
      ],
      "metadata": {
        "id": "vcH2mtx3OmJd"
      }
    },
    {
      "cell_type": "markdown",
      "source": [
        "Импортируем библиотреки"
      ],
      "metadata": {
        "id": "KFAmo4khOEbN"
      }
    },
    {
      "cell_type": "code",
      "execution_count": null,
      "metadata": {
        "id": "ZnRo0dl4fyxn"
      },
      "outputs": [],
      "source": [
        "import numpy as np\n",
        "import pandas as pd"
      ]
    },
    {
      "cell_type": "markdown",
      "source": [
        "Создаем датасет\n",
        "\n",
        "1.   Возраст человека\n",
        "2.   Зарплата человека: 0 - менее 50,000, 1 - более 50,000\n",
        "\n",
        "Предсказываем с какой вероятностью у человека будет зарплата больее 50000 относительно возраста"
      ],
      "metadata": {
        "id": "MQRmfxHWO-qN"
      }
    },
    {
      "cell_type": "code",
      "source": [
        "data = {\n",
        "    'age': [22, 25, 30, 35, 40, 45, 50, 55, 60],\n",
        "    'income_above_50000': [0, 0, 0, 1, 1, 1, 1, 1, 1]\n",
        "}\n",
        "df = pd.DataFrame(data)"
      ],
      "metadata": {
        "id": "B-pRsCK2Ntw8"
      },
      "execution_count": null,
      "outputs": []
    },
    {
      "cell_type": "markdown",
      "source": [
        "Линейная регрессия"
      ],
      "metadata": {
        "id": "bk9QNf4EOV1-"
      }
    },
    {
      "cell_type": "code",
      "source": [
        "\n",
        "def linear_regression(df: pd.DataFrame) -> list[float]:\n",
        "    x = df['age'].values\n",
        "    y = df['income_above_50000'].values\n",
        "\n",
        "    X = np.c_[np.ones(x.shape[0]), x]  # добавляем столбец единиц для bias\n",
        "    weights = np.linalg.inv(X.T @ X) @ (X.T @ y)  # вычисляем веса: (X^T * X)^(-1) * X^T * y\n",
        "\n",
        "    predictions = X @ weights\n",
        "    return predictions.tolist()\n",
        "\n",
        "print(linear_regression(df))"
      ],
      "metadata": {
        "colab": {
          "base_uri": "https://localhost:8080/"
        },
        "id": "iC4GNR9INig2",
        "outputId": "7ae0519d-4937-4690-de4d-e51c456a2fc3"
      },
      "execution_count": null,
      "outputs": [
        {
          "output_type": "stream",
          "name": "stdout",
          "text": [
            "[0.10771152044957832, 0.19973462379019657, 0.3531064626912269, 0.5064783015922574, 0.6598501404932877, 0.8132219793943183, 0.9665938182953486, 1.119965657196379, 1.2733374960974093]\n"
          ]
        }
      ]
    },
    {
      "cell_type": "markdown",
      "source": [
        "Функция активации - сигмоида: 1 / (1 + exp(-x))"
      ],
      "metadata": {
        "id": "f1leSUbjObEN"
      }
    },
    {
      "cell_type": "code",
      "source": [
        "def activation_func(x: list[float]) -> list[float]:\n",
        "\n",
        "    return (1 / (1 + np.exp(-np.array(x)))).tolist()"
      ],
      "metadata": {
        "id": "JrlTm4_JNmHU"
      },
      "execution_count": null,
      "outputs": []
    },
    {
      "cell_type": "markdown",
      "source": [
        "Создание нейрона"
      ],
      "metadata": {
        "id": "CAi3RlMkgJqJ"
      }
    },
    {
      "cell_type": "code",
      "source": [
        "def neuron(df: pd.DataFrame):\n",
        "    temp_result = linear_regression(df)\n",
        "    result = activation_func(temp_result)\n",
        "    return result"
      ],
      "metadata": {
        "id": "V3gOsIbMNpeF"
      },
      "execution_count": null,
      "outputs": []
    },
    {
      "cell_type": "markdown",
      "source": [
        "Запускаем нейрон и выводим результат"
      ],
      "metadata": {
        "id": "04j0Q5QPPD_V"
      }
    },
    {
      "cell_type": "code",
      "source": [
        "output = neuron(df)"
      ],
      "metadata": {
        "id": "SEuBUk4HNxSs"
      },
      "execution_count": null,
      "outputs": []
    },
    {
      "cell_type": "code",
      "source": [
        "for age, probability in zip(df['age'], output):\n",
        "    print(f\"Возраст: {age}, Вероятность заработка более 50,000: {probability:.2f}\")"
      ],
      "metadata": {
        "colab": {
          "base_uri": "https://localhost:8080/"
        },
        "id": "ML9CpAhiN1DV",
        "outputId": "f277d4f5-1fa4-4646-929f-f8e3cf32622c"
      },
      "execution_count": null,
      "outputs": [
        {
          "output_type": "stream",
          "name": "stdout",
          "text": [
            "Возраст: 22, Вероятность заработка более 50,000: 0.53\n",
            "Возраст: 25, Вероятность заработка более 50,000: 0.55\n",
            "Возраст: 30, Вероятность заработка более 50,000: 0.59\n",
            "Возраст: 35, Вероятность заработка более 50,000: 0.62\n",
            "Возраст: 40, Вероятность заработка более 50,000: 0.66\n",
            "Возраст: 45, Вероятность заработка более 50,000: 0.69\n",
            "Возраст: 50, Вероятность заработка более 50,000: 0.72\n",
            "Возраст: 55, Вероятность заработка более 50,000: 0.75\n",
            "Возраст: 60, Вероятность заработка более 50,000: 0.78\n"
          ]
        }
      ]
    },
    {
      "cell_type": "markdown",
      "source": [
        "# 2 задание"
      ],
      "metadata": {
        "id": "MRSvwzOTdnsR"
      }
    },
    {
      "cell_type": "markdown",
      "source": [
        "### Сделать класс, в котором реализована возможность задать количество нейронов в скрытом слое и провести обучение."
      ],
      "metadata": {
        "id": "GcvjRTJ2d4WJ"
      }
    },
    {
      "cell_type": "markdown",
      "source": [
        "Импорт библиотек"
      ],
      "metadata": {
        "id": "JaIv_zOLdsg5"
      }
    },
    {
      "cell_type": "code",
      "source": [
        "import numpy as np"
      ],
      "metadata": {
        "id": "plqKmHiHcW7b"
      },
      "execution_count": null,
      "outputs": []
    },
    {
      "cell_type": "markdown",
      "source": [],
      "metadata": {
        "id": "W4WVMiqUeaN9"
      }
    },
    {
      "cell_type": "code",
      "source": [
        "class SimpleNeuralNetwork:\n",
        "    def __init__(self, input_size, hidden_size, output_size, learning_rate=0.01):\n",
        "\n",
        "        self.learning_rate = learning_rate\n",
        "\n",
        "        self.weights_input_hidden = np.random.rand(input_size, hidden_size) - 0.5\n",
        "        self.weights_hidden_output = np.random.rand(hidden_size, output_size) - 0.5\n",
        "\n",
        "        #создаем смещения для скрытого и выходного слоев\n",
        "        self.bias_hidden = np.random.rand(hidden_size) - 0.5\n",
        "        self.bias_output = np.random.rand(output_size) - 0.5\n",
        "\n",
        "    def sigmoid(self, x):\n",
        "        return 1 / (1 + np.exp(-x))\n",
        "\n",
        "    def sigmoid_derivative(self, x):\n",
        "        return x * (1 - x)\n",
        "\n",
        "    def forward(self, x):\n",
        "        self.hidden_output = self.sigmoid(np.dot(x, self.weights_input_hidden) + self.bias_hidden)\n",
        "        return self.sigmoid(np.dot(self.hidden_output, self.weights_hidden_output) + self.bias_output)\n",
        "\n",
        "    def backward(self, x, y, output):\n",
        "        output_error = y - output\n",
        "        hidden_error = (output_error * self.sigmoid_derivative(output)).dot(self.weights_hidden_output.T)\n",
        "\n",
        "        # Обновление весов и смещений\n",
        "        self.weights_hidden_output += self.hidden_output.T.dot(output_error * self.sigmoid_derivative(output)) * self.learning_rate\n",
        "        self.bias_output += np.sum(output_error * self.sigmoid_derivative(output), axis=0) * self.learning_rate\n",
        "        self.weights_input_hidden += x.T.dot(hidden_error * self.sigmoid_derivative(self.hidden_output)) * self.learning_rate\n",
        "        self.bias_hidden += np.sum(hidden_error * self.sigmoid_derivative(self.hidden_output), axis=0) * self.learning_rate\n",
        "\n",
        "    def train(self, x, y, epochs):\n",
        "        for epoch in range(epochs):\n",
        "            output = self.forward(x)\n",
        "            self.backward(x, y, output)\n",
        "            if epoch % 1000 == 0:\n",
        "                loss = np.mean(np.square(y - output))\n",
        "                print(f'Epoch {epoch}, Loss: {loss:.4f}')\n",
        "\n",
        "    def predict(self, x):\n",
        "        return self.forward(x)\n"
      ],
      "metadata": {
        "id": "VcOOm-_KeHm5"
      },
      "execution_count": null,
      "outputs": []
    },
    {
      "cell_type": "markdown",
      "source": [
        "### **Создаем** **датасет**:\n",
        "\n",
        "1. Возраст\n",
        "2. Опыт\n",
        "3. Зарплата человека: 0 - менее 50,000, 1 - более 50,000\n"
      ],
      "metadata": {
        "id": "d1oePN94ehOB"
      }
    },
    {
      "cell_type": "code",
      "source": [
        "data = np.array([\n",
        "    [25, 1, 0],\n",
        "    [30, 3, 1],\n",
        "    [35, 5, 1],\n",
        "    [40, 10, 1],\n",
        "    [22, 0, 0],\n",
        "    [28, 2, 0],\n",
        "    [32, 4, 1],\n",
        "    [45, 15, 1],\n",
        "    [50, 20, 1],\n",
        "])"
      ],
      "metadata": {
        "id": "wPQGLkHSeLhB"
      },
      "execution_count": null,
      "outputs": []
    },
    {
      "cell_type": "markdown",
      "source": [
        "Разделение на входные и выходные данные"
      ],
      "metadata": {
        "id": "M2g4ygTbfN_R"
      }
    },
    {
      "cell_type": "code",
      "source": [
        "X = data[:, :2]  # Возраст и опыт\n",
        "y = data[:, 2].reshape(-1, 1)  # Заработная плата"
      ],
      "metadata": {
        "id": "tGDwzAoRe-Mi"
      },
      "execution_count": null,
      "outputs": []
    },
    {
      "cell_type": "markdown",
      "source": [
        "## Создание и обучение сети"
      ],
      "metadata": {
        "id": "R20BKRU_fSoB"
      }
    },
    {
      "cell_type": "code",
      "source": [
        "nn = SimpleNeuralNetwork(input_size=2, hidden_size=3, output_size=1, learning_rate=0.1)\n",
        "nn.train(X, y, epochs=10000)"
      ],
      "metadata": {
        "colab": {
          "base_uri": "https://localhost:8080/"
        },
        "id": "wjXdfqc_ePrB",
        "outputId": "b4fc7f4d-5c6d-49d6-f0e9-64a6a7130890"
      },
      "execution_count": null,
      "outputs": [
        {
          "output_type": "stream",
          "name": "stdout",
          "text": [
            "Epoch 0, Loss: 0.2395\n",
            "Epoch 1000, Loss: 0.0080\n",
            "Epoch 2000, Loss: 0.0023\n",
            "Epoch 3000, Loss: 0.0013\n",
            "Epoch 4000, Loss: 0.0009\n",
            "Epoch 5000, Loss: 0.0007\n",
            "Epoch 6000, Loss: 0.0006\n",
            "Epoch 7000, Loss: 0.0005\n",
            "Epoch 8000, Loss: 0.0004\n",
            "Epoch 9000, Loss: 0.0004\n"
          ]
        }
      ]
    },
    {
      "cell_type": "markdown",
      "source": [
        "Результат"
      ],
      "metadata": {
        "id": "HWaUsPCVfbHR"
      }
    },
    {
      "cell_type": "code",
      "source": [
        "test_data = np.array([[29, 2], [45, 10]])\n",
        "predictions = nn.predict(test_data)\n",
        "print(\"Predictions:\")\n",
        "print(predictions)"
      ],
      "metadata": {
        "colab": {
          "base_uri": "https://localhost:8080/"
        },
        "id": "UcYcMnW7eSKA",
        "outputId": "ca8567a6-aceb-4fc8-b07a-11649ac777d5"
      },
      "execution_count": null,
      "outputs": [
        {
          "output_type": "stream",
          "name": "stdout",
          "text": [
            "Predictions:\n",
            "[[0.02465025]\n",
            " [0.98809631]]\n"
          ]
        }
      ]
    }
  ]
}