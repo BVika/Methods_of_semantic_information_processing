{
  "nbformat": 4,
  "nbformat_minor": 0,
  "metadata": {
    "colab": {
      "provenance": [],
      "authorship_tag": "ABX9TyP+IaO7Ps1HuerWlKbQX/ZW",
      "include_colab_link": true
    },
    "kernelspec": {
      "name": "python3",
      "display_name": "Python 3"
    },
    "language_info": {
      "name": "python"
    }
  },
  "cells": [
    {
      "cell_type": "markdown",
      "metadata": {
        "id": "view-in-github",
        "colab_type": "text"
      },
      "source": [
        "<a href=\"https://colab.research.google.com/github/BVika/Methods_of_semantic_information_processing/blob/main/Untitled3.ipynb\" target=\"_parent\"><img src=\"https://colab.research.google.com/assets/colab-badge.svg\" alt=\"Open In Colab\"/></a>"
      ]
    },
    {
      "cell_type": "code",
      "execution_count": null,
      "metadata": {
        "id": "Fw9UYSiTijGv"
      },
      "outputs": [],
      "source": [
        "import numpy as np"
      ]
    },
    {
      "cell_type": "markdown",
      "source": [
        "Multi Head of Attention"
      ],
      "metadata": {
        "id": "EVYVv4DQBy0g"
      }
    },
    {
      "cell_type": "code",
      "source": [
        "class SimpleMultiHeadAttention:\n",
        "    def __init__(self, input_size, head_size, num_heads):\n",
        "        self.head_size = head_size\n",
        "        self.num_heads = num_heads\n",
        "\n",
        "        # Инициализация весов для ключей, запросов и значений\n",
        "        self.weights_key = np.random.rand(input_size, num_heads * head_size) - 0.5\n",
        "        self.weights_query = np.random.rand(input_size, num_heads * head_size) - 0.5\n",
        "        self.weights_value = np.random.rand(input_size, num_heads * head_size) - 0.5\n",
        "\n",
        "    def split_heads(self, x):\n",
        "        # Разделение на головы\n",
        "        batch_size, seq_length, _ = x.shape\n",
        "        return x.reshape(batch_size, seq_length, self.num_heads, self.head_size).transpose(0, 2, 1, 3)\n",
        "\n",
        "    def softmax(self, x):\n",
        "        e_x = np.exp(x - np.max(x, axis=-1, keepdims=True))\n",
        "        return e_x / e_x.sum(axis=-1, keepdims=True)\n",
        "\n",
        "    def forward(self, x):\n",
        "        # Получение ключей, запросов и значений\n",
        "        keys = np.dot(x, self.weights_key)\n",
        "        queries = np.dot(x, self.weights_query)\n",
        "        values = np.dot(x, self.weights_value)\n",
        "\n",
        "        # Разделение на головы\n",
        "        keys = self.split_heads(keys)\n",
        "        queries = self.split_heads(queries)\n",
        "        values = self.split_heads(values)\n",
        "\n",
        "        # Вычисление внимания\n",
        "        attention_scores = np.matmul(queries, keys.transpose(0, 1, 3, 2)) / np.sqrt(self.head_size)\n",
        "        attention_weights = self.softmax(attention_scores)\n",
        "\n",
        "        # Применение внимания к значениям\n",
        "        output = np.matmul(attention_weights, values)\n",
        "        output = output.transpose(0, 2, 1, 3).reshape(x.shape[0], -1, self.num_heads * self.head_size)\n",
        "\n",
        "        return output"
      ],
      "metadata": {
        "id": "lIl-D8ZoBLjf"
      },
      "execution_count": null,
      "outputs": []
    },
    {
      "cell_type": "markdown",
      "source": [
        "Создаем нейрон"
      ],
      "metadata": {
        "id": "-IxvHoO6B5hP"
      }
    },
    {
      "cell_type": "code",
      "source": [
        "class SimpleNeuralNetwork:\n",
        "    def __init__(self, input_size, hidden_size, output_size, learning_rate=0.01):\n",
        "        self.learning_rate = learning_rate\n",
        "        self.weights_input_hidden = np.random.rand(input_size, hidden_size) - 0.5\n",
        "        self.weights_hidden_output = np.random.rand(hidden_size, output_size) - 0.5\n",
        "        self.bias_hidden = np.random.rand(hidden_size) - 0.5\n",
        "        self.bias_output = np.random.rand(output_size) - 0.5\n",
        "\n",
        "    def sigmoid(self, x):\n",
        "        return 1 / (1 + np.exp(-x))\n",
        "\n",
        "    def sigmoid_derivative(self, x):\n",
        "        return x * (1 - x)\n",
        "\n",
        "    def forward(self, x):\n",
        "        self.hidden_output = self.sigmoid(np.dot(x, self.weights_input_hidden) + self.bias_hidden)\n",
        "        return self.sigmoid(np.dot(self.hidden_output, self.weights_hidden_output) + self.bias_output)\n",
        "\n",
        "    def backward(self, x, y, output):\n",
        "        output_error = y - output\n",
        "        hidden_error = (output_error * self.sigmoid_derivative(output)).dot(self.weights_hidden_output.T)\n",
        "\n",
        "        self.weights_hidden_output += self.hidden_output.T.dot(output_error * self.sigmoid_derivative(output)) * self.learning_rate\n",
        "        self.bias_output += np.sum(output_error * self.sigmoid_derivative(output), axis=0) * self.learning_rate\n",
        "        self.weights_input_hidden += x.T.dot(hidden_error * self.sigmoid_derivative(self.hidden_output)) * self.learning_rate\n",
        "        self.bias_hidden += np.sum(hidden_error * self.sigmoid_derivative(self.hidden_output), axis=0) * self.learning_rate\n",
        "\n",
        "    def train(self, x, y, epochs):\n",
        "        for epoch in range(epochs):\n",
        "            output = self.forward(x)\n",
        "            self.backward(x, y, output)\n",
        "            if epoch % 1000 == 0:\n",
        "                loss = np.mean(np.square(y - output))\n",
        "                print(f'Epoch {epoch}, Loss: {loss:.4f}')\n",
        "\n",
        "    def predict(self, x):\n",
        "        return self.forward(x)\n"
      ],
      "metadata": {
        "id": "fXVa9S0UBOku"
      },
      "execution_count": null,
      "outputs": []
    },
    {
      "cell_type": "markdown",
      "source": [
        "Создаем датасет"
      ],
      "metadata": {
        "id": "ot31x1w8CDAv"
      }
    },
    {
      "cell_type": "code",
      "source": [
        "data = np.array([\n",
        "    [25, 1, 0],\n",
        "    [30, 3, 1],\n",
        "    [35, 5, 1],\n",
        "    [40, 10, 1],\n",
        "    [22, 0, 0],\n",
        "    [28, 2, 0],\n",
        "    [32, 4, 1],\n",
        "    [45, 15, 1],\n",
        "    [50, 20, 1],\n",
        "])"
      ],
      "metadata": {
        "id": "Y0XXLaRoBQl_"
      },
      "execution_count": null,
      "outputs": []
    },
    {
      "cell_type": "code",
      "source": [
        "# Разделяем данные на входные и выходные\n",
        "X = data[:, :-1]  # Все строки, все столбцы, кроме последнего\n",
        "y = data[:, -1]   # Все строки, только последний столбец\n",
        "y = y.reshape(-1, 1)  # Преобразуем y в двумерный массив\n"
      ],
      "metadata": {
        "id": "sCdM-aH9BTuI"
      },
      "execution_count": null,
      "outputs": []
    },
    {
      "cell_type": "markdown",
      "source": [
        "Создаем и обучаем нейронную сеть"
      ],
      "metadata": {
        "id": "YYHtcUHRCINu"
      }
    },
    {
      "cell_type": "code",
      "source": [
        "input_size = X.shape[1]  # Количество входных признаков\n",
        "hidden_size = 5           # Количество нейронов в скрытом слое\n",
        "output_size = 1           # Количество выходных нейронов (для бинарной классификации)\n",
        "nn = SimpleNeuralNetwork(input_size, hidden_size, output_size)\n",
        "nn.train(X, y, epochs=10000)\n",
        "\n",
        "# Выполняем предсказание на тех же данных\n",
        "predictions = nn.predict(X)"
      ],
      "metadata": {
        "colab": {
          "base_uri": "https://localhost:8080/"
        },
        "id": "RU69ATamBWAu",
        "outputId": "4cfce3df-ed9b-419b-cfe6-a85e6d1fe5ac"
      },
      "execution_count": null,
      "outputs": [
        {
          "output_type": "stream",
          "name": "stdout",
          "text": [
            "Epoch 0, Loss: 0.4212\n",
            "Epoch 1000, Loss: 0.1368\n",
            "Epoch 2000, Loss: 0.0560\n",
            "Epoch 3000, Loss: 0.0302\n",
            "Epoch 4000, Loss: 0.0194\n",
            "Epoch 5000, Loss: 0.0137\n",
            "Epoch 6000, Loss: 0.0104\n",
            "Epoch 7000, Loss: 0.0083\n",
            "Epoch 8000, Loss: 0.0068\n",
            "Epoch 9000, Loss: 0.0057\n"
          ]
        }
      ]
    },
    {
      "cell_type": "code",
      "source": [
        "# Выводим результаты\n",
        "print(\"Входные данные:\\n\", X)\n",
        "print(\"Фактические значения:\\n\", y)\n",
        "print(\"Предсказанные значения:\\n\", predictions)"
      ],
      "metadata": {
        "colab": {
          "base_uri": "https://localhost:8080/"
        },
        "id": "UqCMVybMBa4O",
        "outputId": "b2cbf11a-81e7-4593-b9cf-e780855256d2"
      },
      "execution_count": null,
      "outputs": [
        {
          "output_type": "stream",
          "name": "stdout",
          "text": [
            "Входные данные:\n",
            " [[25  1]\n",
            " [30  3]\n",
            " [35  5]\n",
            " [40 10]\n",
            " [22  0]\n",
            " [28  2]\n",
            " [32  4]\n",
            " [45 15]\n",
            " [50 20]]\n",
            "Фактические значения:\n",
            " [[0]\n",
            " [1]\n",
            " [1]\n",
            " [1]\n",
            " [0]\n",
            " [0]\n",
            " [1]\n",
            " [1]\n",
            " [1]]\n",
            "Предсказанные значения:\n",
            " [[0.06162142]\n",
            " [0.88799894]\n",
            " [0.96023968]\n",
            " [0.96034925]\n",
            " [0.0587875 ]\n",
            " [0.12916661]\n",
            " [0.95826318]\n",
            " [0.960349  ]\n",
            " [0.96034891]]\n"
          ]
        }
      ]
    }
  ]
}